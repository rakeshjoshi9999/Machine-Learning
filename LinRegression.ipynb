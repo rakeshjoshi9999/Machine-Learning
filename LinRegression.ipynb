{
 "cells": [
  {
   "cell_type": "code",
   "execution_count": 108,
   "metadata": {},
   "outputs": [],
   "source": [
    "import numpy as np\n",
    "import pandas as pd\n",
    "from sklearn.datasets import load_boston"
   ]
  },
  {
   "cell_type": "code",
   "execution_count": 109,
   "metadata": {},
   "outputs": [],
   "source": [
    "boston_dataset = load_boston()"
   ]
  },
  {
   "cell_type": "code",
   "execution_count": 110,
   "metadata": {},
   "outputs": [
    {
     "name": "stdout",
     "output_type": "stream",
     "text": [
      "Boston House Prices dataset\n",
      "===========================\n",
      "\n",
      "Notes\n",
      "------\n",
      "Data Set Characteristics:  \n",
      "\n",
      "    :Number of Instances: 506 \n",
      "\n",
      "    :Number of Attributes: 13 numeric/categorical predictive\n",
      "    \n",
      "    :Median Value (attribute 14) is usually the target\n",
      "\n",
      "    :Attribute Information (in order):\n",
      "        - CRIM     per capita crime rate by town\n",
      "        - ZN       proportion of residential land zoned for lots over 25,000 sq.ft.\n",
      "        - INDUS    proportion of non-retail business acres per town\n",
      "        - CHAS     Charles River dummy variable (= 1 if tract bounds river; 0 otherwise)\n",
      "        - NOX      nitric oxides concentration (parts per 10 million)\n",
      "        - RM       average number of rooms per dwelling\n",
      "        - AGE      proportion of owner-occupied units built prior to 1940\n",
      "        - DIS      weighted distances to five Boston employment centres\n",
      "        - RAD      index of accessibility to radial highways\n",
      "        - TAX      full-value property-tax rate per $10,000\n",
      "        - PTRATIO  pupil-teacher ratio by town\n",
      "        - B        1000(Bk - 0.63)^2 where Bk is the proportion of blacks by town\n",
      "        - LSTAT    % lower status of the population\n",
      "        - MEDV     Median value of owner-occupied homes in $1000's\n",
      "\n",
      "    :Missing Attribute Values: None\n",
      "\n",
      "    :Creator: Harrison, D. and Rubinfeld, D.L.\n",
      "\n",
      "This is a copy of UCI ML housing dataset.\n",
      "http://archive.ics.uci.edu/ml/datasets/Housing\n",
      "\n",
      "\n",
      "This dataset was taken from the StatLib library which is maintained at Carnegie Mellon University.\n",
      "\n",
      "The Boston house-price data of Harrison, D. and Rubinfeld, D.L. 'Hedonic\n",
      "prices and the demand for clean air', J. Environ. Economics & Management,\n",
      "vol.5, 81-102, 1978.   Used in Belsley, Kuh & Welsch, 'Regression diagnostics\n",
      "...', Wiley, 1980.   N.B. Various transformations are used in the table on\n",
      "pages 244-261 of the latter.\n",
      "\n",
      "The Boston house-price data has been used in many machine learning papers that address regression\n",
      "problems.   \n",
      "     \n",
      "**References**\n",
      "\n",
      "   - Belsley, Kuh & Welsch, 'Regression diagnostics: Identifying Influential Data and Sources of Collinearity', Wiley, 1980. 244-261.\n",
      "   - Quinlan,R. (1993). Combining Instance-Based and Model-Based Learning. In Proceedings on the Tenth International Conference of Machine Learning, 236-243, University of Massachusetts, Amherst. Morgan Kaufmann.\n",
      "   - many more! (see http://archive.ics.uci.edu/ml/datasets/Housing)\n",
      "\n"
     ]
    }
   ],
   "source": [
    "print (boston_dataset['DESCR'])"
   ]
  },
  {
   "cell_type": "code",
   "execution_count": 111,
   "metadata": {},
   "outputs": [
    {
     "name": "stdout",
     "output_type": "stream",
     "text": [
      "['CRIM' 'ZN' 'INDUS' 'CHAS' 'NOX' 'RM' 'AGE' 'DIS' 'RAD' 'TAX' 'PTRATIO'\n",
      " 'B' 'LSTAT']\n"
     ]
    }
   ],
   "source": [
    "#builtin fn to print feature names\n",
    "print (boston_dataset['feature_names'])"
   ]
  },
  {
   "cell_type": "markdown",
   "metadata": {},
   "source": [
    "-----"
   ]
  },
  {
   "cell_type": "code",
   "execution_count": 112,
   "metadata": {},
   "outputs": [],
   "source": [
    "df_boston = pd.DataFrame(boston_dataset.data)\n",
    "df_boston.columns = boston_dataset.feature_names"
   ]
  },
  {
   "cell_type": "code",
   "execution_count": 113,
   "metadata": {},
   "outputs": [
    {
     "data": {
      "text/html": [
       "<div>\n",
       "<style scoped>\n",
       "    .dataframe tbody tr th:only-of-type {\n",
       "        vertical-align: middle;\n",
       "    }\n",
       "\n",
       "    .dataframe tbody tr th {\n",
       "        vertical-align: top;\n",
       "    }\n",
       "\n",
       "    .dataframe thead th {\n",
       "        text-align: right;\n",
       "    }\n",
       "</style>\n",
       "<table border=\"1\" class=\"dataframe\">\n",
       "  <thead>\n",
       "    <tr style=\"text-align: right;\">\n",
       "      <th></th>\n",
       "      <th>CRIM</th>\n",
       "      <th>ZN</th>\n",
       "      <th>INDUS</th>\n",
       "      <th>CHAS</th>\n",
       "      <th>NOX</th>\n",
       "      <th>RM</th>\n",
       "      <th>AGE</th>\n",
       "      <th>DIS</th>\n",
       "      <th>RAD</th>\n",
       "      <th>TAX</th>\n",
       "      <th>PTRATIO</th>\n",
       "      <th>B</th>\n",
       "      <th>LSTAT</th>\n",
       "    </tr>\n",
       "  </thead>\n",
       "  <tbody>\n",
       "    <tr>\n",
       "      <th>0</th>\n",
       "      <td>0.00632</td>\n",
       "      <td>18.0</td>\n",
       "      <td>2.31</td>\n",
       "      <td>0.0</td>\n",
       "      <td>0.538</td>\n",
       "      <td>6.575</td>\n",
       "      <td>65.2</td>\n",
       "      <td>4.0900</td>\n",
       "      <td>1.0</td>\n",
       "      <td>296.0</td>\n",
       "      <td>15.3</td>\n",
       "      <td>396.90</td>\n",
       "      <td>4.98</td>\n",
       "    </tr>\n",
       "    <tr>\n",
       "      <th>1</th>\n",
       "      <td>0.02731</td>\n",
       "      <td>0.0</td>\n",
       "      <td>7.07</td>\n",
       "      <td>0.0</td>\n",
       "      <td>0.469</td>\n",
       "      <td>6.421</td>\n",
       "      <td>78.9</td>\n",
       "      <td>4.9671</td>\n",
       "      <td>2.0</td>\n",
       "      <td>242.0</td>\n",
       "      <td>17.8</td>\n",
       "      <td>396.90</td>\n",
       "      <td>9.14</td>\n",
       "    </tr>\n",
       "    <tr>\n",
       "      <th>2</th>\n",
       "      <td>0.02729</td>\n",
       "      <td>0.0</td>\n",
       "      <td>7.07</td>\n",
       "      <td>0.0</td>\n",
       "      <td>0.469</td>\n",
       "      <td>7.185</td>\n",
       "      <td>61.1</td>\n",
       "      <td>4.9671</td>\n",
       "      <td>2.0</td>\n",
       "      <td>242.0</td>\n",
       "      <td>17.8</td>\n",
       "      <td>392.83</td>\n",
       "      <td>4.03</td>\n",
       "    </tr>\n",
       "    <tr>\n",
       "      <th>3</th>\n",
       "      <td>0.03237</td>\n",
       "      <td>0.0</td>\n",
       "      <td>2.18</td>\n",
       "      <td>0.0</td>\n",
       "      <td>0.458</td>\n",
       "      <td>6.998</td>\n",
       "      <td>45.8</td>\n",
       "      <td>6.0622</td>\n",
       "      <td>3.0</td>\n",
       "      <td>222.0</td>\n",
       "      <td>18.7</td>\n",
       "      <td>394.63</td>\n",
       "      <td>2.94</td>\n",
       "    </tr>\n",
       "    <tr>\n",
       "      <th>4</th>\n",
       "      <td>0.06905</td>\n",
       "      <td>0.0</td>\n",
       "      <td>2.18</td>\n",
       "      <td>0.0</td>\n",
       "      <td>0.458</td>\n",
       "      <td>7.147</td>\n",
       "      <td>54.2</td>\n",
       "      <td>6.0622</td>\n",
       "      <td>3.0</td>\n",
       "      <td>222.0</td>\n",
       "      <td>18.7</td>\n",
       "      <td>396.90</td>\n",
       "      <td>5.33</td>\n",
       "    </tr>\n",
       "  </tbody>\n",
       "</table>\n",
       "</div>"
      ],
      "text/plain": [
       "      CRIM    ZN  INDUS  CHAS    NOX     RM   AGE     DIS  RAD    TAX  \\\n",
       "0  0.00632  18.0   2.31   0.0  0.538  6.575  65.2  4.0900  1.0  296.0   \n",
       "1  0.02731   0.0   7.07   0.0  0.469  6.421  78.9  4.9671  2.0  242.0   \n",
       "2  0.02729   0.0   7.07   0.0  0.469  7.185  61.1  4.9671  2.0  242.0   \n",
       "3  0.03237   0.0   2.18   0.0  0.458  6.998  45.8  6.0622  3.0  222.0   \n",
       "4  0.06905   0.0   2.18   0.0  0.458  7.147  54.2  6.0622  3.0  222.0   \n",
       "\n",
       "   PTRATIO       B  LSTAT  \n",
       "0     15.3  396.90   4.98  \n",
       "1     17.8  396.90   9.14  \n",
       "2     17.8  392.83   4.03  \n",
       "3     18.7  394.63   2.94  \n",
       "4     18.7  396.90   5.33  "
      ]
     },
     "execution_count": 113,
     "metadata": {},
     "output_type": "execute_result"
    }
   ],
   "source": [
    "df_boston.head()"
   ]
  },
  {
   "cell_type": "code",
   "execution_count": 114,
   "metadata": {},
   "outputs": [],
   "source": [
    "df_boston['PRICE'] = boston_dataset.target"
   ]
  },
  {
   "cell_type": "code",
   "execution_count": 115,
   "metadata": {},
   "outputs": [
    {
     "data": {
      "text/html": [
       "<div>\n",
       "<style scoped>\n",
       "    .dataframe tbody tr th:only-of-type {\n",
       "        vertical-align: middle;\n",
       "    }\n",
       "\n",
       "    .dataframe tbody tr th {\n",
       "        vertical-align: top;\n",
       "    }\n",
       "\n",
       "    .dataframe thead th {\n",
       "        text-align: right;\n",
       "    }\n",
       "</style>\n",
       "<table border=\"1\" class=\"dataframe\">\n",
       "  <thead>\n",
       "    <tr style=\"text-align: right;\">\n",
       "      <th></th>\n",
       "      <th>CRIM</th>\n",
       "      <th>ZN</th>\n",
       "      <th>INDUS</th>\n",
       "      <th>CHAS</th>\n",
       "      <th>NOX</th>\n",
       "      <th>RM</th>\n",
       "      <th>AGE</th>\n",
       "      <th>DIS</th>\n",
       "      <th>RAD</th>\n",
       "      <th>TAX</th>\n",
       "      <th>PTRATIO</th>\n",
       "      <th>B</th>\n",
       "      <th>LSTAT</th>\n",
       "      <th>PRICE</th>\n",
       "    </tr>\n",
       "  </thead>\n",
       "  <tbody>\n",
       "    <tr>\n",
       "      <th>0</th>\n",
       "      <td>0.00632</td>\n",
       "      <td>18.0</td>\n",
       "      <td>2.31</td>\n",
       "      <td>0.0</td>\n",
       "      <td>0.538</td>\n",
       "      <td>6.575</td>\n",
       "      <td>65.2</td>\n",
       "      <td>4.0900</td>\n",
       "      <td>1.0</td>\n",
       "      <td>296.0</td>\n",
       "      <td>15.3</td>\n",
       "      <td>396.90</td>\n",
       "      <td>4.98</td>\n",
       "      <td>24.0</td>\n",
       "    </tr>\n",
       "    <tr>\n",
       "      <th>1</th>\n",
       "      <td>0.02731</td>\n",
       "      <td>0.0</td>\n",
       "      <td>7.07</td>\n",
       "      <td>0.0</td>\n",
       "      <td>0.469</td>\n",
       "      <td>6.421</td>\n",
       "      <td>78.9</td>\n",
       "      <td>4.9671</td>\n",
       "      <td>2.0</td>\n",
       "      <td>242.0</td>\n",
       "      <td>17.8</td>\n",
       "      <td>396.90</td>\n",
       "      <td>9.14</td>\n",
       "      <td>21.6</td>\n",
       "    </tr>\n",
       "    <tr>\n",
       "      <th>2</th>\n",
       "      <td>0.02729</td>\n",
       "      <td>0.0</td>\n",
       "      <td>7.07</td>\n",
       "      <td>0.0</td>\n",
       "      <td>0.469</td>\n",
       "      <td>7.185</td>\n",
       "      <td>61.1</td>\n",
       "      <td>4.9671</td>\n",
       "      <td>2.0</td>\n",
       "      <td>242.0</td>\n",
       "      <td>17.8</td>\n",
       "      <td>392.83</td>\n",
       "      <td>4.03</td>\n",
       "      <td>34.7</td>\n",
       "    </tr>\n",
       "    <tr>\n",
       "      <th>3</th>\n",
       "      <td>0.03237</td>\n",
       "      <td>0.0</td>\n",
       "      <td>2.18</td>\n",
       "      <td>0.0</td>\n",
       "      <td>0.458</td>\n",
       "      <td>6.998</td>\n",
       "      <td>45.8</td>\n",
       "      <td>6.0622</td>\n",
       "      <td>3.0</td>\n",
       "      <td>222.0</td>\n",
       "      <td>18.7</td>\n",
       "      <td>394.63</td>\n",
       "      <td>2.94</td>\n",
       "      <td>33.4</td>\n",
       "    </tr>\n",
       "    <tr>\n",
       "      <th>4</th>\n",
       "      <td>0.06905</td>\n",
       "      <td>0.0</td>\n",
       "      <td>2.18</td>\n",
       "      <td>0.0</td>\n",
       "      <td>0.458</td>\n",
       "      <td>7.147</td>\n",
       "      <td>54.2</td>\n",
       "      <td>6.0622</td>\n",
       "      <td>3.0</td>\n",
       "      <td>222.0</td>\n",
       "      <td>18.7</td>\n",
       "      <td>396.90</td>\n",
       "      <td>5.33</td>\n",
       "      <td>36.2</td>\n",
       "    </tr>\n",
       "  </tbody>\n",
       "</table>\n",
       "</div>"
      ],
      "text/plain": [
       "      CRIM    ZN  INDUS  CHAS    NOX     RM   AGE     DIS  RAD    TAX  \\\n",
       "0  0.00632  18.0   2.31   0.0  0.538  6.575  65.2  4.0900  1.0  296.0   \n",
       "1  0.02731   0.0   7.07   0.0  0.469  6.421  78.9  4.9671  2.0  242.0   \n",
       "2  0.02729   0.0   7.07   0.0  0.469  7.185  61.1  4.9671  2.0  242.0   \n",
       "3  0.03237   0.0   2.18   0.0  0.458  6.998  45.8  6.0622  3.0  222.0   \n",
       "4  0.06905   0.0   2.18   0.0  0.458  7.147  54.2  6.0622  3.0  222.0   \n",
       "\n",
       "   PTRATIO       B  LSTAT  PRICE  \n",
       "0     15.3  396.90   4.98   24.0  \n",
       "1     17.8  396.90   9.14   21.6  \n",
       "2     17.8  392.83   4.03   34.7  \n",
       "3     18.7  394.63   2.94   33.4  \n",
       "4     18.7  396.90   5.33   36.2  "
      ]
     },
     "execution_count": 115,
     "metadata": {},
     "output_type": "execute_result"
    }
   ],
   "source": [
    "df_boston.head()"
   ]
  },
  {
   "cell_type": "code",
   "execution_count": 116,
   "metadata": {},
   "outputs": [],
   "source": [
    "X_data = boston_dataset.data\n",
    "y_data = boston_dataset.target"
   ]
  },
  {
   "cell_type": "code",
   "execution_count": 117,
   "metadata": {},
   "outputs": [],
   "source": [
    "from sklearn.linear_model import LinearRegression"
   ]
  },
  {
   "cell_type": "code",
   "execution_count": 118,
   "metadata": {},
   "outputs": [],
   "source": [
    "linReg = LinearRegression()"
   ]
  },
  {
   "cell_type": "code",
   "execution_count": 119,
   "metadata": {},
   "outputs": [
    {
     "data": {
      "text/plain": [
       "LinearRegression(copy_X=True, fit_intercept=True, n_jobs=1, normalize=False)"
      ]
     },
     "execution_count": 119,
     "metadata": {},
     "output_type": "execute_result"
    }
   ],
   "source": [
    "linReg.fit(X_data,y_data)"
   ]
  },
  {
   "cell_type": "code",
   "execution_count": 120,
   "metadata": {},
   "outputs": [
    {
     "name": "stdout",
     "output_type": "stream",
     "text": [
      "Intercept is 36.49\n"
     ]
    }
   ],
   "source": [
    "print('Intercept is %.2f'%linReg.intercept_)"
   ]
  },
  {
   "cell_type": "code",
   "execution_count": 121,
   "metadata": {},
   "outputs": [
    {
     "name": "stdout",
     "output_type": "stream",
     "text": [
      "The coefficient is 13.00\n"
     ]
    }
   ],
   "source": [
    "print('The coefficient is %.2f'%len(linReg.coef_))"
   ]
  },
  {
   "cell_type": "code",
   "execution_count": 122,
   "metadata": {},
   "outputs": [],
   "source": [
    "#split the dataset into train and test data\n",
    "from sklearn.cross_validation import train_test_split"
   ]
  },
  {
   "cell_type": "code",
   "execution_count": 123,
   "metadata": {},
   "outputs": [],
   "source": [
    "X_train,X_test,y_train,y_test = train_test_split(X_data,y_data,test_size=0.3,random_state=0)"
   ]
  },
  {
   "cell_type": "code",
   "execution_count": 124,
   "metadata": {},
   "outputs": [
    {
     "data": {
      "text/plain": [
       "(354, 13)"
      ]
     },
     "execution_count": 124,
     "metadata": {},
     "output_type": "execute_result"
    }
   ],
   "source": [
    "X_train.shape"
   ]
  },
  {
   "cell_type": "code",
   "execution_count": 125,
   "metadata": {},
   "outputs": [
    {
     "data": {
      "text/plain": [
       "(354,)"
      ]
     },
     "execution_count": 125,
     "metadata": {},
     "output_type": "execute_result"
    }
   ],
   "source": [
    "y_train.shape"
   ]
  },
  {
   "cell_type": "code",
   "execution_count": 126,
   "metadata": {},
   "outputs": [
    {
     "data": {
      "text/plain": [
       "(152, 13)"
      ]
     },
     "execution_count": 126,
     "metadata": {},
     "output_type": "execute_result"
    }
   ],
   "source": [
    "X_test.shape"
   ]
  },
  {
   "cell_type": "code",
   "execution_count": 127,
   "metadata": {},
   "outputs": [
    {
     "data": {
      "text/plain": [
       "(152,)"
      ]
     },
     "execution_count": 127,
     "metadata": {},
     "output_type": "execute_result"
    }
   ],
   "source": [
    "y_test.shape"
   ]
  },
  {
   "cell_type": "code",
   "execution_count": 128,
   "metadata": {},
   "outputs": [
    {
     "data": {
      "text/plain": [
       "LinearRegression(copy_X=True, fit_intercept=True, n_jobs=1, normalize=False)"
      ]
     },
     "execution_count": 128,
     "metadata": {},
     "output_type": "execute_result"
    }
   ],
   "source": [
    "linReg.fit(X_train,y_train)"
   ]
  },
  {
   "cell_type": "code",
   "execution_count": 129,
   "metadata": {},
   "outputs": [],
   "source": [
    "Predict_test = linReg.predict(X_test)"
   ]
  },
  {
   "cell_type": "code",
   "execution_count": 130,
   "metadata": {},
   "outputs": [
    {
     "data": {
      "text/plain": [
       "array([24.93551831, 23.75668597, 29.3364008 , 11.99898444, 21.37583999,\n",
       "       19.19718511, 20.57022126, 21.2138302 , 19.05187659, 20.31028442,\n",
       "        5.47685057, 16.88415507, 17.13177611,  5.41132187, 40.2160287 ,\n",
       "       32.30923608, 22.46445111, 36.50566714, 31.03913253, 23.17552674,\n",
       "       24.75105205, 24.51122436, 20.65675756, 30.45679279, 22.33344401,\n",
       "       10.18647997, 17.44394817, 18.24663845, 35.62978156, 20.81890427,\n",
       "       18.26969192, 17.71558071, 19.34036094, 23.62642525, 28.98283423,\n",
       "       19.43835179, 11.14022634, 24.82272051, 18.00566388, 15.57161273,\n",
       "       26.2207858 , 20.81349155, 22.17395321, 15.48276713, 22.6264291 ,\n",
       "       24.89397648, 19.75674027, 23.03741163,  9.84032063, 24.36186515,\n",
       "       21.43835984, 17.61122699, 24.39248313, 29.93655984, 13.55766168,\n",
       "       21.53449652, 20.53870439, 15.03422398, 14.34404261, 22.12289936,\n",
       "       17.07752265, 21.54237223, 32.96641318, 31.37158339, 17.79556174,\n",
       "       32.75501672, 18.72716141, 19.20885247, 19.3875019 , 23.08361289,\n",
       "       22.88126676, 24.06959335, 30.53517036, 28.71133094, 25.90961389,\n",
       "        5.18194118, 36.85972098, 23.77199315, 27.26417597, 19.25820787,\n",
       "       28.41975056, 19.30026341, 18.95492232, 37.99169046, 39.42636768,\n",
       "       23.72581225, 24.84168399, 16.47450772, 25.99953829, 16.72518771,\n",
       "       15.48278925, 13.47288623, 24.13874567, 30.77255565, 22.19622183,\n",
       "       19.88640604,  0.42571397, 24.8729212 , 15.99228421, 17.42591715,\n",
       "       25.49771725, 22.35059735, 32.66512994, 22.0471821 , 27.29341637,\n",
       "       23.20866227,  6.8406524 , 14.8612534 , 22.32382478, 29.1787644 ,\n",
       "       33.23754894, 13.22316789, 19.67098559, 20.7430009 , 12.01155595,\n",
       "       23.50089933,  5.4904727 , 19.88055589,  9.26991544, 44.81549316,\n",
       "       30.56405138, 12.43509904, 17.33705872, 21.48137585, 23.53473959,\n",
       "       20.5034872 , 35.08429714, 13.22441064, 20.70543543, 35.3546459 ,\n",
       "       19.4429353 , 13.74485989, 14.16119372, 23.03570078, 15.00951773,\n",
       "       30.95917303, 25.23174466, 15.43334353, 24.06104493,  9.87113768,\n",
       "       15.02331951, 21.05633005, 32.87242152, 27.81448829, 25.91807901,\n",
       "       15.27790823, 30.96966218, 27.8106047 , 14.45110242,  7.57123214,\n",
       "       28.3448491 , 25.05039755])"
      ]
     },
     "execution_count": 130,
     "metadata": {},
     "output_type": "execute_result"
    }
   ],
   "source": [
    "Predict_test"
   ]
  },
  {
   "cell_type": "code",
   "execution_count": 131,
   "metadata": {},
   "outputs": [
    {
     "data": {
      "text/plain": [
       "array([22.6, 50. , 23. ,  8.3, 21.2, 19.9, 20.6, 18.7, 16.1, 18.6,  8.8,\n",
       "       17.2, 14.9, 10.5, 50. , 29. , 23. , 33.3, 29.4, 21. , 23.8, 19.1,\n",
       "       20.4, 29.1, 19.3, 23.1, 19.6, 19.4, 38.7, 18.7, 14.6, 20. , 20.5,\n",
       "       20.1, 23.6, 16.8,  5.6, 50. , 14.5, 13.3, 23.9, 20. , 19.8, 13.8,\n",
       "       16.5, 21.6, 20.3, 17. , 11.8, 27.5, 15.6, 23.1, 24.3, 42.8, 15.6,\n",
       "       21.7, 17.1, 17.2, 15. , 21.7, 18.6, 21. , 33.1, 31.5, 20.1, 29.8,\n",
       "       15.2, 15. , 27.5, 22.6, 20. , 21.4, 23.5, 31.2, 23.7,  7.4, 48.3,\n",
       "       24.4, 22.6, 18.3, 23.3, 17.1, 27.9, 44.8, 50. , 23. , 21.4, 10.2,\n",
       "       23.3, 23.2, 18.9, 13.4, 21.9, 24.8, 11.9, 24.3, 13.8, 24.7, 14.1,\n",
       "       18.7, 28.1, 19.8, 26.7, 21.7, 22. , 22.9, 10.4, 21.9, 20.6, 26.4,\n",
       "       41.3, 17.2, 27.1, 20.4, 16.5, 24.4,  8.4, 23. ,  9.7, 50. , 30.5,\n",
       "       12.3, 19.4, 21.2, 20.3, 18.8, 33.4, 18.5, 19.6, 33.2, 13.1,  7.5,\n",
       "       13.6, 17.4,  8.4, 35.4, 24. , 13.4, 26.2,  7.2, 13.1, 24.5, 37.2,\n",
       "       25. , 24.1, 16.6, 32.9, 36.2, 11. ,  7.2, 22.8, 28.7])"
      ]
     },
     "execution_count": 131,
     "metadata": {},
     "output_type": "execute_result"
    }
   ],
   "source": [
    "y_test"
   ]
  },
  {
   "cell_type": "code",
   "execution_count": 132,
   "metadata": {},
   "outputs": [
    {
     "data": {
      "text/plain": [
       "array([  2.33551831, -26.24331403,   6.3364008 ,   3.69898444,\n",
       "         0.17583999,  -0.70281489,  -0.02977874,   2.5138302 ,\n",
       "         2.95187659,   1.71028442,  -3.32314943,  -0.31584493,\n",
       "         2.23177611,  -5.08867813,  -9.7839713 ,   3.30923608,\n",
       "        -0.53554889,   3.20566714,   1.63913253,   2.17552674,\n",
       "         0.95105205,   5.41122436,   0.25675756,   1.35679279,\n",
       "         3.03344401, -12.91352003,  -2.15605183,  -1.15336155,\n",
       "        -3.07021844,   2.11890427,   3.66969192,  -2.28441929,\n",
       "        -1.15963906,   3.52642525,   5.38283423,   2.63835179,\n",
       "         5.54022634, -25.17727949,   3.50566388,   2.27161273,\n",
       "         2.3207858 ,   0.81349155,   2.37395321,   1.68276713,\n",
       "         6.1264291 ,   3.29397648,  -0.54325973,   6.03741163,\n",
       "        -1.95967937,  -3.13813485,   5.83835984,  -5.48877301,\n",
       "         0.09248313, -12.86344016,  -2.04233832,  -0.16550348,\n",
       "         3.43870439,  -2.16577602,  -0.65595739,   0.42289936,\n",
       "        -1.52247735,   0.54237223,  -0.13358682,  -0.12841661,\n",
       "        -2.30443826,   2.95501672,   3.52716141,   4.20885247,\n",
       "        -8.1124981 ,   0.48361289,   2.88126676,   2.66959335,\n",
       "         7.03517036,  -2.48866906,   2.20961389,  -2.21805882,\n",
       "       -11.44027902,  -0.62800685,   4.66417597,   0.95820787,\n",
       "         5.11975056,   2.20026341,  -8.94507768,  -6.80830954,\n",
       "       -10.57363232,   0.72581225,   3.44168399,   6.27450772,\n",
       "         2.69953829,  -6.47481229,  -3.41721075,   0.07288623,\n",
       "         2.23874567,   5.97255565,  10.29622183,  -4.41359396,\n",
       "       -13.37428603,   0.1729212 ,   1.89228421,  -1.27408285,\n",
       "        -2.60228275,   2.55059735,   5.96512994,   0.3471821 ,\n",
       "         5.29341637,   0.30866227,  -3.5593476 ,  -7.0387466 ,\n",
       "         1.72382478,   2.7787644 ,  -8.06245106,  -3.97683211,\n",
       "        -7.42901441,   0.3430009 ,  -4.48844405,  -0.89910067,\n",
       "        -2.9095273 ,  -3.11944411,  -0.43008456,  -5.18450684,\n",
       "         0.06405138,   0.13509904,  -2.06294128,   0.28137585,\n",
       "         3.23473959,   1.7034872 ,   1.68429714,  -5.27558936,\n",
       "         1.10543543,   2.1546459 ,   6.3429353 ,   6.24485989,\n",
       "         0.56119372,   5.63570078,   6.60951773,  -4.44082697,\n",
       "         1.23174466,   2.03334353,  -2.13895507,   2.67113768,\n",
       "         1.92331951,  -3.44366995,  -4.32757848,   2.81448829,\n",
       "         1.81807901,  -1.32209177,  -1.93033782,  -8.3893953 ,\n",
       "         3.45110242,   0.37123214,   5.5448491 ,  -3.64960245])"
      ]
     },
     "execution_count": 132,
     "metadata": {},
     "output_type": "execute_result"
    }
   ],
   "source": [
    "diff = Predict_test - y_test\n",
    "diff"
   ]
  },
  {
   "cell_type": "code",
   "execution_count": 133,
   "metadata": {},
   "outputs": [
    {
     "data": {
      "text/plain": [
       "array([5.45464579e+00, 6.88711531e+02, 4.01499751e+01, 1.36824859e+01,\n",
       "       3.09197008e-02, 4.93948775e-01, 8.86773577e-04, 6.31934230e+00,\n",
       "       8.71357540e+00, 2.92507279e+00, 1.10433221e+01, 9.97580186e-02,\n",
       "       4.98082461e+00, 2.58946451e+01, 9.57260943e+01, 1.09510435e+01,\n",
       "       2.86812608e-01, 1.02763018e+01, 2.68675547e+00, 4.73291660e+00,\n",
       "       9.04499996e-01, 2.92813491e+01, 6.59244424e-02, 1.84088668e+00,\n",
       "       9.20178254e+00, 1.66759000e+02, 4.64855951e+00, 1.33024287e+00,\n",
       "       9.42624128e+00, 4.48975530e+00, 1.34666388e+01, 5.21857148e+00,\n",
       "       1.34476276e+00, 1.24356750e+01, 2.89749044e+01, 6.96090019e+00,\n",
       "       3.06941079e+01, 6.33895403e+02, 1.22896792e+01, 5.16022441e+00,\n",
       "       5.38604674e+00, 6.61768508e-01, 5.63565383e+00, 2.83170522e+00,\n",
       "       3.75331335e+01, 1.08502811e+01, 2.95131132e-01, 3.64503392e+01,\n",
       "       3.84034323e+00, 9.84789035e+00, 3.40864456e+01, 3.01266291e+01,\n",
       "       8.55313017e-03, 1.65468093e+02, 4.17114582e+00, 2.73914014e-02,\n",
       "       1.18246879e+01, 4.69058575e+00, 4.30280099e-01, 1.78843868e-01,\n",
       "       2.31793729e+00, 2.94167639e-01, 1.78454398e-02, 1.64908252e-02,\n",
       "       5.31043571e+00, 8.73212382e+00, 1.24408676e+01, 1.77144391e+01,\n",
       "       6.58126254e+01, 2.33881424e-01, 8.30169812e+00, 7.12672866e+00,\n",
       "       4.94936219e+01, 6.19347369e+00, 4.88239355e+00, 4.91978491e+00,\n",
       "       1.30879984e+02, 3.94392603e-01, 2.17545375e+01, 9.18162327e-01,\n",
       "       2.62118458e+01, 4.84115907e+00, 8.00144147e+01, 4.63530788e+01,\n",
       "       1.11801700e+02, 5.26803423e-01, 1.18451887e+01, 3.93694471e+01,\n",
       "       7.28750699e+00, 4.19231942e+01, 1.16773293e+01, 5.31240244e-03,\n",
       "       5.01198216e+00, 3.56714210e+01, 1.06012184e+02, 1.94798117e+01,\n",
       "       1.78871527e+02, 2.99017431e-02, 3.58073954e+00, 1.62328710e+00,\n",
       "       6.77187550e+00, 6.50554684e+00, 3.55827752e+01, 1.20535411e-01,\n",
       "       2.80202568e+01, 9.52723962e-02, 1.26689553e+01, 4.95439537e+01,\n",
       "       2.97157186e+00, 7.72153161e+00, 6.50031171e+01, 1.58151937e+01,\n",
       "       5.51902551e+01, 1.17649618e-01, 2.01461299e+01, 8.08382014e-01,\n",
       "       8.46534908e+00, 9.73093156e+00, 1.84972728e-01, 2.68791112e+01,\n",
       "       4.10257961e-03, 1.82517497e-02, 4.25572674e+00, 7.91723682e-02,\n",
       "       1.04635402e+01, 2.90186862e+00, 2.83685685e+00, 2.78318431e+01,\n",
       "       1.22198750e+00, 4.64249896e+00, 4.02328282e+01, 3.89982750e+01,\n",
       "       3.14938391e-01, 3.17611233e+01, 4.36857246e+01, 1.97209442e+01,\n",
       "       1.51719491e+00, 4.13448589e+00, 4.57512878e+00, 7.13497651e+00,\n",
       "       3.69915792e+00, 1.18588628e+01, 1.87279355e+01, 7.92134431e+00,\n",
       "       3.30541128e+00, 1.74792664e+00, 3.72620409e+00, 7.03819535e+01,\n",
       "       1.19101079e+01, 1.37813304e-01, 3.07453515e+01, 1.33195980e+01])"
      ]
     },
     "execution_count": 133,
     "metadata": {},
     "output_type": "execute_result"
    }
   ],
   "source": [
    "sq_err = diff**2\n",
    "sq_err"
   ]
  },
  {
   "cell_type": "code",
   "execution_count": 134,
   "metadata": {},
   "outputs": [],
   "source": [
    "MSE=np.mean(sq_err)"
   ]
  },
  {
   "cell_type": "code",
   "execution_count": 135,
   "metadata": {},
   "outputs": [
    {
     "name": "stdout",
     "output_type": "stream",
     "text": [
      "MSE is 27.18\n"
     ]
    }
   ],
   "source": [
    "print('MSE is %.2f'%MSE)"
   ]
  },
  {
   "cell_type": "code",
   "execution_count": 136,
   "metadata": {},
   "outputs": [
    {
     "name": "stdout",
     "output_type": "stream",
     "text": [
      "MSE = 27.18\n"
     ]
    }
   ],
   "source": [
    "#IN one line :calculate the MSE using predict method\n",
    "print('MSE = %.2f'%np.mean((linReg.predict(X_test)-y_test)**2))"
   ]
  },
  {
   "cell_type": "code",
   "execution_count": 137,
   "metadata": {},
   "outputs": [
    {
     "name": "stdout",
     "output_type": "stream",
     "text": [
      "The variance is 0.674\n"
     ]
    }
   ],
   "source": [
    "#variance\n",
    "print('The variance is %.3f'%linReg.score(X_test,y_test))"
   ]
  },
  {
   "cell_type": "code",
   "execution_count": null,
   "metadata": {},
   "outputs": [],
   "source": []
  },
  {
   "cell_type": "code",
   "execution_count": null,
   "metadata": {},
   "outputs": [],
   "source": []
  },
  {
   "cell_type": "code",
   "execution_count": null,
   "metadata": {},
   "outputs": [],
   "source": []
  },
  {
   "cell_type": "code",
   "execution_count": null,
   "metadata": {},
   "outputs": [],
   "source": []
  },
  {
   "cell_type": "code",
   "execution_count": null,
   "metadata": {},
   "outputs": [],
   "source": []
  },
  {
   "cell_type": "code",
   "execution_count": null,
   "metadata": {},
   "outputs": [],
   "source": []
  },
  {
   "cell_type": "code",
   "execution_count": null,
   "metadata": {},
   "outputs": [],
   "source": []
  },
  {
   "cell_type": "code",
   "execution_count": null,
   "metadata": {},
   "outputs": [],
   "source": []
  }
 ],
 "metadata": {
  "kernelspec": {
   "display_name": "Python 3",
   "language": "python",
   "name": "python3"
  },
  "language_info": {
   "codemirror_mode": {
    "name": "ipython",
    "version": 3
   },
   "file_extension": ".py",
   "mimetype": "text/x-python",
   "name": "python",
   "nbconvert_exporter": "python",
   "pygments_lexer": "ipython3",
   "version": "3.6.4"
  }
 },
 "nbformat": 4,
 "nbformat_minor": 2
}
