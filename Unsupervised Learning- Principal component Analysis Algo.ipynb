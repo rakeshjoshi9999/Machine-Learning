{
 "cells": [
  {
   "cell_type": "code",
   "execution_count": 1,
   "metadata": {},
   "outputs": [],
   "source": [
    "#Its a linear dimensionality reduction technique which uses singular value decomposition of the data and keeps\n",
    "#only the  most significant singular vectors to project the data to a lower dimensional space"
   ]
  },
  {
   "cell_type": "code",
   "execution_count": 7,
   "metadata": {},
   "outputs": [],
   "source": [
    "import numpy as np\n",
    "import pandas as pd \n",
    "from sklearn.datasets import make_blobs\n",
    "from sklearn.decomposition import PCA"
   ]
  },
  {
   "cell_type": "code",
   "execution_count": 8,
   "metadata": {},
   "outputs": [],
   "source": [
    "n_sample = 20\n",
    "random_state = 20"
   ]
  },
  {
   "cell_type": "code",
   "execution_count": 9,
   "metadata": {},
   "outputs": [],
   "source": [
    "#generate the data with 10 features\n",
    "X,y = make_blobs(n_samples = n_sample,n_features=10,random_state=None)"
   ]
  },
  {
   "cell_type": "code",
   "execution_count": 10,
   "metadata": {},
   "outputs": [
    {
     "data": {
      "text/plain": [
       "(20, 10)"
      ]
     },
     "execution_count": 10,
     "metadata": {},
     "output_type": "execute_result"
    }
   ],
   "source": [
    "X.shape"
   ]
  },
  {
   "cell_type": "code",
   "execution_count": 11,
   "metadata": {},
   "outputs": [
    {
     "data": {
      "text/plain": [
       "(20,)"
      ]
     },
     "execution_count": 11,
     "metadata": {},
     "output_type": "execute_result"
    }
   ],
   "source": [
    "y.shape"
   ]
  },
  {
   "cell_type": "code",
   "execution_count": 12,
   "metadata": {},
   "outputs": [],
   "source": [
    "pca = PCA(n_components = 3)"
   ]
  },
  {
   "cell_type": "code",
   "execution_count": 15,
   "metadata": {},
   "outputs": [
    {
     "data": {
      "text/plain": [
       "PCA(copy=True, iterated_power='auto', n_components=3, random_state=None,\n",
       "  svd_solver='auto', tol=0.0, whiten=False)"
      ]
     },
     "execution_count": 15,
     "metadata": {},
     "output_type": "execute_result"
    }
   ],
   "source": [
    "#fit the data into pca estimator\n",
    "pca.fit(X)"
   ]
  },
  {
   "cell_type": "code",
   "execution_count": 30,
   "metadata": {},
   "outputs": [
    {
     "name": "stdout",
     "output_type": "stream",
     "text": [
      "[0.66238896 0.30500668 0.01036034]\n"
     ]
    }
   ],
   "source": [
    "print(pca.explained_variance_ratio_)"
   ]
  },
  {
   "cell_type": "code",
   "execution_count": 22,
   "metadata": {},
   "outputs": [
    {
     "name": "stdout",
     "output_type": "stream",
     "text": [
      "[-0.05996558 -0.05126127 -0.68281469 -0.25358951  0.23065546  0.42807368\n",
      "  0.09007806  0.05888049 -0.45997594 -0.06020821]\n"
     ]
    }
   ],
   "source": [
    "#print the first pca component\n",
    "first_component = pca.components_[0]\n",
    "print (first_component)"
   ]
  },
  {
   "cell_type": "code",
   "execution_count": 27,
   "metadata": {},
   "outputs": [],
   "source": [
    "pca_reduced = pca.transform(X)"
   ]
  },
  {
   "cell_type": "code",
   "execution_count": 28,
   "metadata": {},
   "outputs": [
    {
     "data": {
      "text/plain": [
       "array([[-13.79585687,  -7.44103036,  -0.99142836],\n",
       "       [-13.0652126 ,  -7.80874933,  -1.73669808],\n",
       "       [ -1.26098221,  10.53721458,   2.6806771 ],\n",
       "       [ 14.46833047,  -4.75950667,   2.39833647],\n",
       "       [ 15.47160185,  -2.08471156,  -0.33645821],\n",
       "       [-13.56751266,  -8.06784831,   0.64367371],\n",
       "       [ 13.57577949,  -5.80403241,  -1.4165362 ],\n",
       "       [ -3.61865577,   8.65754889,   0.88529414],\n",
       "       [ -3.20199278,   8.63034316,  -0.50083221],\n",
       "       [ 12.9048332 ,  -3.99494455,   0.68842201],\n",
       "       [-13.17084423,  -7.0109292 ,  -0.29527255],\n",
       "       [ -3.54091522,  13.45327261,   0.25095467],\n",
       "       [ 16.31939005,  -3.30462971,   2.25665844],\n",
       "       [ -2.7090581 ,  10.42265198,  -2.50754896],\n",
       "       [ -3.12013858,  10.86758645,   0.35315146],\n",
       "       [ 15.254891  ,  -3.37356163,  -1.90840684],\n",
       "       [-14.85698865,  -8.70162907,   1.48793615],\n",
       "       [-14.84501962,  -6.77978738,   0.89155368],\n",
       "       [ -3.20707755,  11.59439986,  -1.17511555],\n",
       "       [ 15.96542879,  -5.03165734,  -1.66836088]])"
      ]
     },
     "execution_count": 28,
     "metadata": {},
     "output_type": "execute_result"
    }
   ],
   "source": [
    "pca_reduced"
   ]
  },
  {
   "cell_type": "code",
   "execution_count": 29,
   "metadata": {},
   "outputs": [
    {
     "data": {
      "text/plain": [
       "(20, 3)"
      ]
     },
     "execution_count": 29,
     "metadata": {},
     "output_type": "execute_result"
    }
   ],
   "source": [
    "pca_reduced.shape"
   ]
  },
  {
   "cell_type": "code",
   "execution_count": null,
   "metadata": {},
   "outputs": [],
   "source": []
  },
  {
   "cell_type": "code",
   "execution_count": null,
   "metadata": {},
   "outputs": [],
   "source": []
  }
 ],
 "metadata": {
  "kernelspec": {
   "display_name": "Python 3",
   "language": "python",
   "name": "python3"
  },
  "language_info": {
   "codemirror_mode": {
    "name": "ipython",
    "version": 3
   },
   "file_extension": ".py",
   "mimetype": "text/x-python",
   "name": "python",
   "nbconvert_exporter": "python",
   "pygments_lexer": "ipython3",
   "version": "3.6.4"
  }
 },
 "nbformat": 4,
 "nbformat_minor": 2
}
