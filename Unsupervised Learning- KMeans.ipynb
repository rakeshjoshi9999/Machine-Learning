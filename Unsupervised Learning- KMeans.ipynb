{
 "cells": [
  {
   "cell_type": "code",
   "execution_count": 6,
   "metadata": {},
   "outputs": [],
   "source": [
    "import numpy as np\n",
    "import pandas as pd\n",
    "from sklearn.datasets import make_blobs\n",
    "from sklearn.cluster import KMeans"
   ]
  },
  {
   "cell_type": "code",
   "execution_count": 12,
   "metadata": {},
   "outputs": [],
   "source": [
    "#define number of samples\n",
    "n_sample = 200"
   ]
  },
  {
   "cell_type": "code",
   "execution_count": 13,
   "metadata": {},
   "outputs": [],
   "source": [
    "#define the random state value to initialise center\n",
    "random_state = 20"
   ]
  },
  {
   "cell_type": "code",
   "execution_count": 14,
   "metadata": {},
   "outputs": [],
   "source": [
    "#define number of features. In this case its 5\n",
    "X,y = make_blobs(n_samples = n_sample,random_state=None,n_features = 5)"
   ]
  },
  {
   "cell_type": "code",
   "execution_count": 17,
   "metadata": {},
   "outputs": [
    {
     "data": {
      "text/plain": [
       "(200, 5)"
      ]
     },
     "execution_count": 17,
     "metadata": {},
     "output_type": "execute_result"
    }
   ],
   "source": [
    "X.shape"
   ]
  },
  {
   "cell_type": "code",
   "execution_count": 19,
   "metadata": {},
   "outputs": [
    {
     "data": {
      "text/plain": [
       "(200,)"
      ]
     },
     "execution_count": 19,
     "metadata": {},
     "output_type": "execute_result"
    }
   ],
   "source": [
    "y.shape"
   ]
  },
  {
   "cell_type": "code",
   "execution_count": 22,
   "metadata": {},
   "outputs": [],
   "source": [
    "#define the number of clusters to be formed  and fit the features to the model\n",
    "predict_y = KMeans(n_clusters= 3,random_state=random_state).fit_predict(X)"
   ]
  },
  {
   "cell_type": "code",
   "execution_count": 23,
   "metadata": {},
   "outputs": [
    {
     "data": {
      "text/plain": [
       "array([0, 1, 2, 2, 1, 0, 2, 1, 0, 1, 1, 0, 2, 2, 1, 0, 2, 1, 0, 1, 0, 2,\n",
       "       1, 0, 2, 0, 2, 1, 1, 1, 0, 1, 2, 1, 0, 2, 1, 1, 0, 0, 0, 2, 2, 1,\n",
       "       2, 1, 2, 2, 0, 1, 0, 0, 0, 2, 0, 1, 0, 2, 2, 2, 1, 1, 2, 2, 2, 0,\n",
       "       2, 2, 2, 1, 0, 2, 1, 0, 1, 1, 0, 0, 0, 1, 2, 1, 1, 2, 2, 0, 2, 0,\n",
       "       1, 0, 1, 0, 0, 0, 1, 1, 2, 2, 2, 0, 2, 1, 1, 2, 2, 1, 2, 1, 2, 1,\n",
       "       0, 1, 1, 0, 1, 0, 1, 0, 0, 2, 1, 0, 2, 1, 0, 0, 2, 2, 2, 1, 1, 0,\n",
       "       2, 0, 2, 1, 0, 1, 0, 2, 2, 2, 0, 2, 0, 0, 1, 2, 1, 0, 2, 0, 2, 2,\n",
       "       0, 1, 0, 2, 1, 1, 1, 2, 0, 1, 1, 0, 0, 2, 2, 1, 2, 0, 0, 2, 1, 1,\n",
       "       0, 2, 0, 2, 2, 1, 1, 1, 2, 2, 1, 1, 0, 0, 0, 1, 2, 0, 1, 2, 0, 0,\n",
       "       0, 0])"
      ]
     },
     "execution_count": 23,
     "metadata": {},
     "output_type": "execute_result"
    }
   ],
   "source": [
    "predict_y"
   ]
  },
  {
   "cell_type": "code",
   "execution_count": null,
   "metadata": {},
   "outputs": [],
   "source": []
  },
  {
   "cell_type": "code",
   "execution_count": null,
   "metadata": {},
   "outputs": [],
   "source": []
  },
  {
   "cell_type": "code",
   "execution_count": null,
   "metadata": {},
   "outputs": [],
   "source": []
  },
  {
   "cell_type": "code",
   "execution_count": null,
   "metadata": {},
   "outputs": [],
   "source": []
  },
  {
   "cell_type": "code",
   "execution_count": null,
   "metadata": {},
   "outputs": [],
   "source": []
  },
  {
   "cell_type": "code",
   "execution_count": null,
   "metadata": {},
   "outputs": [],
   "source": []
  },
  {
   "cell_type": "code",
   "execution_count": null,
   "metadata": {},
   "outputs": [],
   "source": []
  },
  {
   "cell_type": "code",
   "execution_count": null,
   "metadata": {},
   "outputs": [],
   "source": []
  }
 ],
 "metadata": {
  "kernelspec": {
   "display_name": "Python 3",
   "language": "python",
   "name": "python3"
  },
  "language_info": {
   "codemirror_mode": {
    "name": "ipython",
    "version": 3
   },
   "file_extension": ".py",
   "mimetype": "text/x-python",
   "name": "python",
   "nbconvert_exporter": "python",
   "pygments_lexer": "ipython3",
   "version": "3.6.4"
  }
 },
 "nbformat": 4,
 "nbformat_minor": 2
}
